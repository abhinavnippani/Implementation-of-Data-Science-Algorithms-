{
 "cells": [
  {
   "cell_type": "markdown",
   "metadata": {},
   "source": [
    "# Importing Necessary Libraries"
   ]
  },
  {
   "cell_type": "code",
   "execution_count": 1,
   "metadata": {},
   "outputs": [],
   "source": [
    "# Dataframes\n",
    "import numpy as np\n",
    "import pandas as pd\n",
    "from copy import deepcopy\n",
    "\n",
    "# Plots\n",
    "%matplotlib inline\n",
    "import matplotlib.pyplot as plt\n",
    "plt.rcParams['figure.figsize'] = (8,8)\n",
    "plt.style.use('ggplot')\n",
    "\n",
    "# Scikit Learn\n",
    "from sklearn import preprocessing\n",
    "from sklearn.cluster import KMeans"
   ]
  },
  {
   "cell_type": "markdown",
   "metadata": {},
   "source": [
    "# Initializing Parameters"
   ]
  },
  {
   "cell_type": "code",
   "execution_count": 2,
   "metadata": {},
   "outputs": [],
   "source": [
    "# Path of the folder\n",
    "path = 'C:/Users/prash/Downloads/ML ALGORITHMS/'\n",
    "\n",
    "# Number of Iterations/Epochs\n",
    "num_iter = 10"
   ]
  },
  {
   "cell_type": "markdown",
   "metadata": {},
   "source": [
    "# Importing and Cleaning Dataset"
   ]
  },
  {
   "cell_type": "code",
   "execution_count": 3,
   "metadata": {},
   "outputs": [],
   "source": [
    "# Import Iris Dataset\n",
    "iris_dataset = pd.read_csv(path + 'DATASETS/' + 'Iris.csv')\n",
    "# Removing Index Column\n",
    "iris_dataset = iris_dataset.iloc[:,1:]\n",
    "\n",
    "# Removing 3rd Class since the algorithm is for Binary Classification\n",
    "iris_dataset = iris_dataset[iris_dataset['Species'] != iris_dataset['Species'].unique()[2]]\n",
    "\n",
    "# Input Dataframe\n",
    "X = iris_dataset.iloc[:,:-1]\n",
    "X = np.array(X)\n",
    "\n",
    "# Encode the Output labels\n",
    "Y = iris_dataset.iloc[:,-1]\n",
    "for i in range(len(Y.unique())):\n",
    "    Y = Y.replace(Y.unique()[i],i)\n",
    "Y = np.array(Y)\n",
    "\n",
    "# Normalize the Dataframe\n",
    "min_max_scaler = preprocessing.MinMaxScaler()\n",
    "X = min_max_scaler.fit_transform(X)"
   ]
  },
  {
   "cell_type": "markdown",
   "metadata": {},
   "source": [
    "# Implementation from Scratch"
   ]
  },
  {
   "cell_type": "code",
   "execution_count": 4,
   "metadata": {},
   "outputs": [
    {
     "name": "stdout",
     "output_type": "stream",
     "text": [
      "The final updated weights are:\n",
      "\n",
      " [[1.         1.         0.5        0.90243902 0.76470588]]\n",
      "\n",
      "\n"
     ]
    },
    {
     "data": {
      "image/png": "[encoded data removed]",
      "text/plain": [
       "<Figure size 432x288 with 1 Axes>"
      ]
     },
     "metadata": {},
     "output_type": "display_data"
    }
   ],
   "source": [
    "# set weights to zero\n",
    "w = np.zeros(shape=(1, X.shape[1]+1)) # One extra weight for the bias term \n",
    "\n",
    "misclassified_samples_per_epoch = [] \n",
    "\n",
    "  \n",
    "for epoch in range(num_iter):\n",
    "    misclassified = 0\n",
    "    for x, y_actual in zip(X, Y):\n",
    "        \n",
    "        # Insert '1' before 0th index for the bias term\n",
    "        x = np.insert(x,0,1)\n",
    "        \n",
    "        # Calculate the predicted value 'target'\n",
    "        y = np.dot(w, x.T)\n",
    "        target = 1.0 if (y > 0) else 0.0\n",
    "        \n",
    "        # Calculate the error term 'delta'\n",
    "        delta = (y_actual - target)\n",
    "\n",
    "        if(delta > 0): # misclassified\n",
    "            misclassified += 1\n",
    "            \n",
    "            # Update the weights\n",
    "            w += (delta * x)\n",
    "\n",
    "    misclassified_samples_per_epoch.append(misclassified)\n",
    "\n",
    "print('The final updated weights are:\\n\\n',w)\n",
    "print('\\n')\n",
    "\n",
    "epochs = np.arange(1, num_iter+1)\n",
    "plt.plot(misclassified_samples_per_epoch)\n",
    "plt.xlabel('iterations')\n",
    "plt.ylabel('misclassified')\n",
    "plt.show()"
   ]
  },
  {
   "cell_type": "markdown",
   "metadata": {},
   "source": [
    "### Reference:\n",
    "https://towardsdatascience.com/perceptron-and-its-implementation-in-python-f87d6c7aa428"
   ]
  }
 ],
 "metadata": {
  "kernelspec": {
   "display_name": "Python 3",
   "language": "python",
   "name": "python3"
  },
  "language_info": {
   "codemirror_mode": {
    "name": "ipython",
    "version": 3
   },
   "file_extension": ".py",
   "mimetype": "text/x-python",
   "name": "python",
   "nbconvert_exporter": "python",
   "pygments_lexer": "ipython3",
   "version": "3.6.5"
  }
 },
 "nbformat": 4,
 "nbformat_minor": 2
}
