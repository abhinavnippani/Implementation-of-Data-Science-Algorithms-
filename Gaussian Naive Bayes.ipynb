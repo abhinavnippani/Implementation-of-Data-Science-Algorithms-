{
 "cells": [
  {
   "cell_type": "markdown",
   "metadata": {},
   "source": [
    "# Importing Necessary Libraries"
   ]
  },
  {
   "cell_type": "code",
   "execution_count": 1,
   "metadata": {},
   "outputs": [
    {
     "name": "stderr",
     "output_type": "stream",
     "text": [
      "C:\\Users\\prash\\Anaconda3\\lib\\site-packages\\sklearn\\cross_validation.py:41: DeprecationWarning: This module was deprecated in version 0.18 in favor of the model_selection module into which all the refactored classes and functions are moved. Also note that the interface of the new CV iterators are different from that of this module. This module will be removed in 0.20.\n",
      "  \"This module will be removed in 0.20.\", DeprecationWarning)\n"
     ]
    }
   ],
   "source": [
    "# Dataframes\n",
    "import numpy as np\n",
    "import pandas as pd\n",
    "from copy import deepcopy\n",
    "\n",
    "# Plots\n",
    "%matplotlib inline\n",
    "import matplotlib.pyplot as plt\n",
    "plt.rcParams['figure.figsize'] = (8,8)\n",
    "plt.style.use('ggplot')\n",
    "\n",
    "# Scikit Learn\n",
    "from sklearn.preprocessing import LabelEncoder\n",
    "from sklearn.cross_validation  import train_test_split\n",
    "from sklearn.naive_bayes import GaussianNB\n",
    "from sklearn import metrics\n",
    "\n",
    "\n",
    "import math"
   ]
  },
  {
   "cell_type": "markdown",
   "metadata": {},
   "source": [
    "# Initializing Parameters"
   ]
  },
  {
   "cell_type": "code",
   "execution_count": 2,
   "metadata": {},
   "outputs": [],
   "source": [
    "# Path of the folder\n",
    "path = 'C:/Users/prash/Downloads/ML ALGORITHMS/'\n",
    "\n",
    "#labels for discretization\n",
    "labels = ['low','medium','high']"
   ]
  },
  {
   "cell_type": "markdown",
   "metadata": {},
   "source": [
    "# Importing and Cleaning Dataset"
   ]
  },
  {
   "cell_type": "code",
   "execution_count": 3,
   "metadata": {},
   "outputs": [],
   "source": [
    "# Import Diabetes Dataset\n",
    "diabetes_dataset = pd.read_csv(path + 'DATASETS/' + 'diabetes.csv')\n",
    "\n",
    "# Input Dataframe\n",
    "X = diabetes_dataset.iloc[:,:-1]\n",
    "\n",
    "\n",
    "#Preprocessing\n",
    "for j in X.columns:\n",
    "    mean = X[j].mean()\n",
    "    X[j] = X[j].replace(0,mean)\n",
    "    X[j] = pd.cut(X[j],bins=len(labels),labels=labels)\n",
    "\n",
    "#creating labelEncoder\n",
    "le = LabelEncoder()\n",
    "for i in range(X.shape[1]):\n",
    "    # Converting string labels into numbers.\n",
    "    X.iloc[:,i] = le.fit_transform(X.iloc[:,i])\n",
    "    \n",
    "# Encode the Output labels\n",
    "Y = diabetes_dataset.iloc[:,-1]\n",
    "\n",
    "# Divide into train and test datasets\n",
    "X_train,X_test,Y_train,Y_test = train_test_split(X,Y,test_size=0.2,random_state=0)\n"
   ]
  },
  {
   "cell_type": "markdown",
   "metadata": {},
   "source": [
    "# Implementation From Scratch"
   ]
  },
  {
   "cell_type": "code",
   "execution_count": 4,
   "metadata": {},
   "outputs": [
    {
     "name": "stderr",
     "output_type": "stream",
     "text": [
      "C:\\Users\\prash\\Anaconda3\\lib\\site-packages\\numpy\\core\\fromnumeric.py:56: FutureWarning: Series.nonzero() is deprecated and will be removed in a future version.Use Series.to_numpy().nonzero() instead\n",
      "  return getattr(obj, method)(*args, **kwds)\n"
     ]
    },
    {
     "name": "stdout",
     "output_type": "stream",
     "text": [
      "Accuracy: 0.7532467532467533\n"
     ]
    }
   ],
   "source": [
    "# Training\n",
    "\n",
    "categ_count = {}\n",
    "categ_index = {}\n",
    "subdataset = {}\n",
    "for category in range(np.unique(Y_train).size):\n",
    "    categ_count[category] = len(Y_train[Y_train == category])/X_train.shape[0]\n",
    "    categ_index[category] = np.argwhere(Y_train == category)\n",
    "    subdataset[category] = X_train.iloc[categ_index[category][:,0],:]\n",
    "    \n",
    "    \n",
    "means = {}\n",
    "std = {}\n",
    "for category in range(np.unique(Y_train).size):\n",
    "    # Here we calculate the mean and the standard deviation from datasets\n",
    "    means[category] = np.mean(subdataset[category], axis=0)\n",
    "    std[category] = np.std(subdataset[category], axis=0)\n",
    "    \n",
    "\n",
    "# Testing\n",
    "\n",
    "# This function calculates the class probability using gaussian distribution\n",
    "def calculate_probability(X, mean, stdev):\n",
    "    exponent = math.exp(-((X - mean) ** 2 / (2 * stdev ** 2)))\n",
    "    return (1 / (math.sqrt(2 * math.pi) * stdev)) * exponent\n",
    "\n",
    "# This function predicts the probability for every class \n",
    "def predict_probability(X,Y,categ_count,means,std):\n",
    "    class_prob = {}\n",
    "    for category in range(np.unique(Y).size):\n",
    "        class_prob[category] = math.log(categ_count[category], math.e)\n",
    "    \n",
    "    for category in range(np.unique(Y).size):\n",
    "        for i in range(len(means)):\n",
    "            class_prob[category]+=math.log(calculate_probability(X[i], means[category][i], std[category][i]), math.e)\n",
    "    \n",
    "    return class_prob\n",
    "\n",
    "\n",
    "Y_pred = []\n",
    "for i in range(X_test.shape[0]):\n",
    "    dummy = predict_probability(X_test.iloc[i,:],Y_test,categ_count,means,std).values()\n",
    "    Y_pred.append(np.argmax(list(dummy)))\n",
    "    \n",
    "    \n",
    "    \n",
    "# Metrics\n",
    "print(\"Accuracy:\",metrics.accuracy_score(Y_test, Y_pred))"
   ]
  },
  {
   "cell_type": "markdown",
   "metadata": {},
   "source": [
    "# Scikit Learn Implementation"
   ]
  },
  {
   "cell_type": "code",
   "execution_count": 5,
   "metadata": {},
   "outputs": [
    {
     "name": "stdout",
     "output_type": "stream",
     "text": [
      "Accuracy: 0.7662337662337663\n"
     ]
    }
   ],
   "source": [
    "# Training\n",
    "clf = GaussianNB()\n",
    "clf.fit(X_train, Y_train)\n",
    "\n",
    "# Testing\n",
    "Y_pred = clf.predict(X_test)\n",
    "\n",
    "# Metrics\n",
    "print(\"Accuracy:\",metrics.accuracy_score(Y_test, Y_pred))"
   ]
  },
  {
   "cell_type": "markdown",
   "metadata": {},
   "source": [
    "### Reference:\n",
    "https://towardsdatascience.com/how-to-impliment-a-gaussian-naive-bayes-classifier-in-python-from-scratch-11e0b80faf5a <br>\n",
    "https://scikit-learn.org/stable/modules/generated/sklearn.naive_bayes.GaussianNB.html"
   ]
  }
 ],
 "metadata": {
  "kernelspec": {
   "display_name": "Python 3",
   "language": "python",
   "name": "python3"
  },
  "language_info": {
   "codemirror_mode": {
    "name": "ipython",
    "version": 3
   },
   "file_extension": ".py",
   "mimetype": "text/x-python",
   "name": "python",
   "nbconvert_exporter": "python",
   "pygments_lexer": "ipython3",
   "version": "3.6.5"
  }
 },
 "nbformat": 4,
 "nbformat_minor": 2
}
